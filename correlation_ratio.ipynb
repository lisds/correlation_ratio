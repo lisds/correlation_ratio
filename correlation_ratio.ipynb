{
 "cells": [
  {
   "cell_type": "markdown",
   "id": "1bd5ffa4",
   "metadata": {},
   "source": [
    "# Implementing the correlation ratio"
   ]
  },
  {
   "cell_type": "code",
   "execution_count": null,
   "id": "e52a6246",
   "metadata": {},
   "outputs": [],
   "source": [
    "# Don't change this cell; just run it.\n",
    "import numpy as np  # The array library.\n",
    "\n",
    "import pandas as pd\n",
    "\n",
    "# Safe setting for Pandas.  Needs Pandas version >= 1.5.\n",
    "pd.set_option('mode.copy_on_write', True)"
   ]
  },
  {
   "cell_type": "markdown",
   "id": "e81e4572",
   "metadata": {},
   "source": [
    "## About the correlation ratio"
   ]
  },
  {
   "cell_type": "markdown",
   "id": "21939ddd",
   "metadata": {},
   "source": [
    "The correlation is a statistic for the situation where you have some continuous variable, with numbers, and you have another variable that contains labels, that identify groups to which each row belongs.   See below for a worked example.\n",
    "\n",
    "Have a look at the [Wikipedia page on correlation ratio](https://en.wikipedia.org/wiki/Correlation_ratio) for background.\n",
    "\n",
    "It is not widely used, and for that reason, there is no standard implementation of this statistic.\n",
    "\n",
    "Here you will do you own implementation."
   ]
  },
  {
   "cell_type": "markdown",
   "id": "092f315a",
   "metadata": {},
   "source": [
    "## The data"
   ]
  },
  {
   "cell_type": "markdown",
   "id": "332fc983",
   "metadata": {},
   "source": [
    "`wine.csv` has a table of data, for which each row corresponds to a particular wine, and the columns correspond to measure for that wine.   The first column gives the class of the wine, where the class corresponds to a particular [cultivar](https://en.wikipedia.org/wiki/Cultivar) - a grape variety.  Thus all rows with wine class 1 come from one cultivar, from class 2 another, and from class three, a third.\n",
    "\n",
    "See [the dataset page](https://archive.ics.uci.edu/ml/datasets/Wine) for more detail."
   ]
  },
  {
   "cell_type": "code",
   "execution_count": null,
   "id": "b5b0e76f",
   "metadata": {},
   "outputs": [],
   "source": [
    "wine = pd.read_csv('wine.csv')\n",
    "wine.head()"
   ]
  },
  {
   "cell_type": "markdown",
   "id": "19706ecc",
   "metadata": {},
   "source": [
    "## Introduction to the correlation ratio"
   ]
  },
  {
   "cell_type": "markdown",
   "id": "38a77bf2",
   "metadata": {},
   "source": [
    "Here we get into a little terminology and notation from the Wikipedia page.  Don't worry if this is hard to follow, you can work out the calculation from the code below.\n",
    "\n",
    "Imagine you have $n$ observations, broken down into $g$ categories, but their label.  For example, consider the DataFrame above, and look only at the `Alcohol` values, and the grape `Class`:"
   ]
  },
  {
   "cell_type": "code",
   "execution_count": null,
   "id": "9f56f17e",
   "metadata": {},
   "outputs": [],
   "source": [
    "categories = wine['Class']\n",
    "values = wine['Alcohol']\n",
    "# Display categories and values as a DataFrame\n",
    "cat_vals = pd.DataFrame({'categories': categories, 'values': values})\n",
    "cat_vals"
   ]
  },
  {
   "cell_type": "code",
   "execution_count": null,
   "id": "bb5c2f8e",
   "metadata": {},
   "outputs": [],
   "source": [
    "n = len(values)\n",
    "n"
   ]
  },
  {
   "cell_type": "markdown",
   "id": "14770052",
   "metadata": {},
   "source": [
    "The $n$ observations are in $c$ categories.  Call these $c$ categories *levels*."
   ]
  },
  {
   "cell_type": "code",
   "execution_count": null,
   "id": "fd47c1e2",
   "metadata": {},
   "outputs": [],
   "source": [
    "levels = categories.unique()\n",
    "levels"
   ]
  },
  {
   "cell_type": "code",
   "execution_count": null,
   "id": "758cc76d",
   "metadata": {},
   "outputs": [],
   "source": [
    "c = len(levels)\n",
    "c"
   ]
  },
  {
   "cell_type": "markdown",
   "id": "d797fc4a",
   "metadata": {},
   "source": [
    "## The notation in the Wikipedia page"
   ]
  },
  {
   "cell_type": "markdown",
   "id": "c01d88d0",
   "metadata": {},
   "source": [
    "**This section is optional**.  It goes through the mathematical notation in the Wikipedia page.  You don't need to understand this section to understand the exercise, but it relates the calculation to the mathematical notation on the Wikipedia page.  If you don't follow this section, consider going ahead to the next section to see how to calculate the correlation ratio in code, then come back here to see how that relates to the notation."
   ]
  },
  {
   "cell_type": "markdown",
   "id": "12530956",
   "metadata": {},
   "source": [
    "Write the mean of group 2 as $\\bar{y_2}$, and, in general, write the mean of group $x$ as $\\bar{y_x}$.  Here are the observations in our actual group 2:"
   ]
  },
  {
   "cell_type": "code",
   "execution_count": null,
   "id": "0e060fb6",
   "metadata": {},
   "outputs": [],
   "source": [
    "values_in_group_2 = values[categories == 2]\n",
    "values_in_group_2"
   ]
  },
  {
   "cell_type": "markdown",
   "id": "39ac8783",
   "metadata": {},
   "source": [
    "Write the number of values in group 2 as $n_2$, and, in general, write the number of values in group $x$ as $n_x$."
   ]
  },
  {
   "cell_type": "code",
   "execution_count": null,
   "id": "6199cc8b",
   "metadata": {},
   "outputs": [],
   "source": [
    "n_2 = len(values_in_group_2)\n",
    "n_2"
   ]
  },
  {
   "cell_type": "markdown",
   "id": "984c068c",
   "metadata": {},
   "source": [
    "Write the sequence of values in group 2 as:\n",
    "\n",
    "$$\n",
    "[y_{2,1}, y_{2,2}, y_{2,3}, ..., y_{2,n_2}]\n",
    "$$\n",
    "\n",
    "where $y_{2,3}$ means the 3rd $y$ value in group 2.\n",
    "\n",
    "More generally, write the sequence of values in group $x$ as:\n",
    "\n",
    "$$\n",
    "[y_{x,1}, y_{x,2}, y_{x,3}, ..., y_{x,n_x}]\n",
    "$$"
   ]
  },
  {
   "cell_type": "markdown",
   "id": "029f735f",
   "metadata": {},
   "source": [
    "As usual, we calculate the mean for group 2 (generally, group $x$) by:\n",
    "\n",
    "* Adding up the values in group 2 (generally, group $x$)\n",
    "* Dividing by $n_2$ (generally, $n_x$)\n",
    "\n",
    "Write the result of adding up the values in group 2 as:\n",
    "\n",
    "$$\n",
    "\\sum_{i=1}^{i=n_2}{y_{2,i}}\n",
    "$$\n",
    "\n",
    "The $\\sum$ is the Greek symbol for capital S, and means \"the sum of\".   Read the line above as \"the sum of all the values in group 2, starting with the first ($i=1$) and going up to the last ($i=n_2$)\".\n",
    "\n",
    "Because we nearly always do sum from the first through the last value, we can also write that with the shorthand:\n",
    "\n",
    "$$\n",
    "\\sum_i{y_{2,i}}\n",
    "$$\n",
    "\n",
    "Then the mean for the values in group 2 is given by:\n",
    "\n",
    "$$\n",
    "\\bar{y}_2 = \\frac{\\sum_i{y_{2,i}}} {n_2}\n",
    "$$\n",
    "\n",
    "In code that is:"
   ]
  },
  {
   "cell_type": "code",
   "execution_count": null,
   "id": "9842d7da",
   "metadata": {},
   "outputs": [],
   "source": [
    "y_bar_2 = values_in_group_2.sum() / n_2\n",
    "y_bar_2"
   ]
  },
  {
   "cell_type": "markdown",
   "id": "7fd2c17d",
   "metadata": {},
   "source": [
    "In general, the mean for group $x$ is:\n",
    "\n",
    "$$\n",
    "\\bar{y}_x = \\frac{\\sum_i{y_{x,i}}} {n_x}\n",
    "$$"
   ]
  },
  {
   "cell_type": "markdown",
   "id": "e34e699b",
   "metadata": {},
   "source": [
    "The following is (slightly edited) from Wikipedia:\n",
    "\n",
    "> Suppose each observation is $y_{x,i}$ where $x$ indicates the category that observation is in and $i$ is the label of the particular observation.  Let $n_x$ be the number of observations in category $x$ and\n",
    "\n",
    "$$\n",
    "\\bar{y}_x=\\frac{\\sum_i y_{x,i}}{n_x}\n",
    "$$\n",
    "\n",
    "> and\n",
    "\n",
    "$$\n",
    "\\bar{y}=\\frac{\\sum_x n_x \\bar{y}_x}{\\sum_x n_x}\n",
    "$$\n",
    "\n",
    "> where $\\bar{y}_x$ is the mean of the category $x$ and $\\bar{y}$ is the mean of the whole population. The correlation ratio $\\eta$ is defined as to satisfy:\n",
    "\n",
    "$$\n",
    "\\eta^2 = \\frac{\\sum_x n_x (\\bar{y}_x-\\bar{y})^2}{\\sum_{x,i} (y_{x,i}-\\bar{y})^2}\n",
    "$$"
   ]
  },
  {
   "cell_type": "markdown",
   "id": "65e6858a",
   "metadata": {},
   "source": [
    "Notice that this expression:\n",
    "\n",
    "$$\n",
    "\\bar{y}=\\frac{\\sum_x n_x \\bar{y}_x}{\\sum_x n_x}\n",
    "$$\n",
    "\n",
    "is just a way of writing the overall mean, ignoring groups, because these:\n",
    "\n",
    "$$\n",
    "n_x \\bar{y}_x\n",
    "$$\n",
    "\n",
    "are just the sums of the observations in the groups, so the overall expression is just the sum of all the observations, divided by the overall number of observations. Therefore, in code we can just calculate that result with:"
   ]
  },
  {
   "cell_type": "code",
   "execution_count": null,
   "id": "aead1a18",
   "metadata": {},
   "outputs": [],
   "source": [
    "y_bar = values.sum() / len(values)\n",
    "y_bar"
   ]
  },
  {
   "cell_type": "markdown",
   "id": "3748081c",
   "metadata": {},
   "source": [
    "Or:"
   ]
  },
  {
   "cell_type": "code",
   "execution_count": null,
   "id": "0eb07a93",
   "metadata": {},
   "outputs": [],
   "source": [
    "y_bar = values.mean()\n",
    "y_bar"
   ]
  },
  {
   "cell_type": "markdown",
   "id": "0f37fe78",
   "metadata": {},
   "source": [
    "**Don't worry if you don't follow the maths above**.   It's just to help you get used to the way the places like Wikipedia will describe statistical and mathematical formulae.   You'll see the calculation in action below, in code.  But you may want to look back and forth between the explanation above and the code to see how they match up."
   ]
  },
  {
   "cell_type": "markdown",
   "id": "1ee092ed",
   "metadata": {},
   "source": [
    "## Long-hand calculation of the correlation ratio"
   ]
  },
  {
   "cell_type": "markdown",
   "id": "000b9354",
   "metadata": {},
   "source": [
    "We want to calculate the correlation ratio for the numerical column `Alcohol` (the alcohol level of the wine), given the labels in `Class`.\n",
    "\n",
    "This is how we would do that by hand, following the formula in the Wikipedia page."
   ]
  },
  {
   "cell_type": "code",
   "execution_count": null,
   "id": "c0e189bc",
   "metadata": {},
   "outputs": [],
   "source": [
    "y_bar = values.mean()  # Overall mean\n",
    "overall_sum_of_squares = ((values - y_bar) ** 2).sum()\n",
    "levels = categories.dropna().unique()\n",
    "n_levels = len(levels)\n",
    "# Calculate the entries in the group sum of squares\n",
    "group_sums_of_squares = np.zeros(n_levels)\n",
    "# For each level\n",
    "for group_no in np.arange(n_levels):\n",
    "    level = levels[group_no]\n",
    "    # Select values corresponding to this level. \n",
    "    is_in_level = categories == level\n",
    "    level_values = values[is_in_level]\n",
    "    # Get the n_x times the (mean for this group minus overall mean) squared.\n",
    "    n_in_level = len(level_values)\n",
    "    group_sos = n_in_level * (level_values.mean() - y_bar) ** 2\n",
    "    # Store in entries for group sum of squares.\n",
    "    group_sums_of_squares[group_no] = group_sos\n",
    "top_of_stat = np.sum(group_sums_of_squares)  # Numerator of correlation ratio\n",
    "bottom_of_stat = np.sum((values - y_bar) ** 2)  # Denominator\n",
    "eta_long_way = np.sqrt(top_of_stat / bottom_of_stat)\n",
    "eta_long_way"
   ]
  },
  {
   "cell_type": "markdown",
   "id": "c2a95db0",
   "metadata": {},
   "source": [
    "While we're here, let's get another dataset.  For this dataset, each row is a patient, each column is some measure of blood, urine, or clinical feature for that patient.  The column `Coronary Artery Disease` specifies whether the patient qualified for a diagnosis of heart vessel disease ('yes') or not ('no').  The column `Hemoglobin`  gives the blood level of the protein that carries oxygen around the body."
   ]
  },
  {
   "cell_type": "code",
   "execution_count": null,
   "id": "788d0c7c",
   "metadata": {},
   "outputs": [],
   "source": [
    "ckd = pd.read_csv('ckd.csv')\n",
    "ckd.head()"
   ]
  },
  {
   "cell_type": "markdown",
   "id": "96a7f807",
   "metadata": {},
   "source": [
    "Lastly, here is the example from Wikipedia:"
   ]
  },
  {
   "cell_type": "code",
   "execution_count": null,
   "id": "ea776ef3",
   "metadata": {},
   "outputs": [],
   "source": [
    "eg_df = pd.DataFrame()\n",
    "eg_df['categories'] = np.repeat(['Algebra', 'Geometry', 'Statistics'], [5, 4, 6])\n",
    "eg_df['values'] =  [45, 70, 29, 15, 21, 40, 20, 30,42, 65, 95, 80, 70, 85, 73]\n",
    "eg_eta = np.sqrt(6780 / 9640)  # Calculation from Wikipedia\n",
    "eg_df"
   ]
  },
  {
   "cell_type": "markdown",
   "id": "b68abfb5",
   "metadata": {},
   "source": [
    "## Your job"
   ]
  },
  {
   "cell_type": "markdown",
   "id": "866ded10",
   "metadata": {},
   "source": [
    "Write a function `correlation_ratio`, that returns this value for any data frame, for a given numerical column (given by the column name) and label column (given by a column name):"
   ]
  },
  {
   "cell_type": "code",
   "execution_count": null,
   "id": "6986c47c",
   "metadata": {},
   "outputs": [],
   "source": [
    "    # Your code here\n",
    "    ...\n",
    "    return ..."
   ]
  },
  {
   "cell_type": "code",
   "execution_count": null,
   "id": "7a1f6c04",
   "metadata": {},
   "outputs": [],
   "source": [
    "# Test your function by replicating the analysis above.\n",
    "# When your function is correct, you should be able to run this cell without error\n",
    "assert np.isclose(correlation_ratio('Alcohol', 'Class', wine), eta_long_way)"
   ]
  },
  {
   "cell_type": "code",
   "execution_count": null,
   "id": "5d78b61a",
   "metadata": {},
   "outputs": [],
   "source": [
    "# Test it on another column.\n",
    "assert np.isclose(correlation_ratio('Malic Acid', 'Class', wine), 0.544857081967286)"
   ]
  },
  {
   "cell_type": "code",
   "execution_count": null,
   "id": "d5f5a9b6",
   "metadata": {},
   "outputs": [],
   "source": [
    "# Test it on another dataset.\n",
    "assert np.isclose(correlation_ratio('Hemoglobin', 'Coronary Artery Disease', ckd), 0.3787772107398905)"
   ]
  },
  {
   "cell_type": "code",
   "execution_count": null,
   "id": "c5245236",
   "metadata": {},
   "outputs": [],
   "source": [
    "# Test it on Wikipedia dataset.\n",
    "assert np.isclose(correlation_ratio('values', 'categories', eg_df), eg_eta)"
   ]
  },
  {
   "cell_type": "markdown",
   "id": "ffa211a2",
   "metadata": {},
   "source": [
    "For extra points, document the function correctly using the [Numpy Docstring Standard](https://numpydoc.readthedocs.io/en/latest/format.html#docstring-standard)"
   ]
  },
  {
   "cell_type": "markdown",
   "id": "a6c3f674",
   "metadata": {},
   "source": [
    "## Done.\n",
    "\n",
    "Congratulations, you're done with the assignment!  Be sure to:\n",
    "\n",
    "- **run all the tests** (with Restart and Run All)\n",
    "- **Save and Checkpoint** from the `File` menu."
   ]
  }
 ],
 "metadata": {
  "jupytext": {
   "notebook_metadata_filter": "all,-language_info",
   "split_at_heading": true,
   "text_representation": {
    "extension": ".Rmd",
    "format_name": "rmarkdown",
    "format_version": "1.2",
    "jupytext_version": "1.14.1"
   }
  },
  "kernelspec": {
   "display_name": "Python 3 (ipykernel)",
   "language": "python",
   "name": "python3"
  }
 },
 "nbformat": 4,
 "nbformat_minor": 5
}
