{
 "cells": [
  {
   "cell_type": "markdown",
   "id": "eed8e310",
   "metadata": {},
   "source": [
    "# Implementing the correlation ratio"
   ]
  },
  {
   "cell_type": "code",
   "execution_count": null,
   "id": "927ef3df",
   "metadata": {},
   "outputs": [],
   "source": [
    "# Don't change this cell; just run it.\n",
    "import numpy as np  # The array library.\n",
    "\n",
    "import pandas as pd\n",
    "\n",
    "# Safe setting for Pandas.  Needs Pandas version >= 1.5.\n",
    "pd.set_option('mode.copy_on_write', True)\n",
    "\n",
    "# The OKpy testing system.\n",
    "from client.api.notebook import Notebook\n",
    "ok = Notebook('correlation_ratio.ok')"
   ]
  },
  {
   "cell_type": "markdown",
   "id": "6a08ef7b",
   "metadata": {},
   "source": [
    "## About the correlation ratio"
   ]
  },
  {
   "cell_type": "markdown",
   "id": "67ad7aeb",
   "metadata": {},
   "source": [
    "The correlation is a statistic for the situation where you have some continuous variable, with numbers, and you have another variable that contains labels, that identify groups to which each row belongs.   See below for a worked example.\n",
    "\n",
    "Have a look at the [Wikipedia page on correlation ratio](https://en.wikipedia.org/wiki/Correlation_ratio) for background.\n",
    "\n",
    "It is not widely used, and for that reason, there is no standard implementation of this statistic.\n",
    "\n",
    "Here you will do you own implementation."
   ]
  },
  {
   "cell_type": "markdown",
   "id": "5c343f30",
   "metadata": {},
   "source": [
    "## The data"
   ]
  },
  {
   "cell_type": "markdown",
   "id": "c7c8ddbd",
   "metadata": {},
   "source": [
    "`wine.csv` has a table of data, for which each row corresponds to a particular wine, and the columns correspond to measure for that wine.   The first column gives the class of the wine, where the class corresponds to a particular [cultivar](https://en.wikipedia.org/wiki/Cultivar) - a grape variety.  Thus all rows with wine class 1 come from one cultivar, from class 2 another, and from class three, a third.\n",
    "\n",
    "See [the dataset page](https://archive.ics.uci.edu/ml/datasets/Wine) for more detail."
   ]
  },
  {
   "cell_type": "code",
   "execution_count": null,
   "id": "4e095f3a",
   "metadata": {},
   "outputs": [],
   "source": [
    "wine = pd.read_csv('wine.csv')\n",
    "wine.head()"
   ]
  },
  {
   "cell_type": "markdown",
   "id": "b096a760",
   "metadata": {},
   "source": [
    "## Correlation ratio long way round."
   ]
  },
  {
   "cell_type": "markdown",
   "id": "eb755e80",
   "metadata": {},
   "source": [
    "We want to calculate the correlation ratio for the numerical column `Alcohol` (the alcohol level of the wine), given the labels in `Class`.\n",
    "\n",
    "This is how we would do that by hand, following the formula in the Wikipedia page."
   ]
  },
  {
   "cell_type": "code",
   "execution_count": null,
   "id": "ca80e0cb",
   "metadata": {},
   "outputs": [],
   "source": [
    "numerical = wine['Alcohol']\n",
    "labels = wine['Class']\n",
    "overall_mean = numerical.mean()\n",
    "overall_sum_of_squares = ((numerical - overall_mean) ** 2).sum()\n",
    "levels = labels.dropna().unique()\n",
    "n_levels = len(levels)\n",
    "group_sums_of_squares = np.zeros(n_levels)\n",
    "for group_no in np.arange(n_levels):\n",
    "    level = levels[group_no]\n",
    "    is_in_level = labels == level\n",
    "    level_values = numerical[is_in_level]\n",
    "    n_in_level = len(level_values)\n",
    "    group_sos = n_in_level * (level_values.mean() - overall_mean) ** 2\n",
    "    group_sums_of_squares[group_no] = group_sos\n",
    "top_of_stat = np.sum(group_sums_of_squares)\n",
    "bottom_of_stat = np.sum((numerical - overall_mean) ** 2)\n",
    "eta = np.sqrt(top_of_stat / bottom_of_stat)\n",
    "eta"
   ]
  },
  {
   "cell_type": "markdown",
   "id": "c7addd36",
   "metadata": {},
   "source": [
    "While we're here, let's get another dataset.  For this dataset, each row is a patient, each column is some measure of blood, urine, or clinical feature for that patient.  The column `Coronary Artery Disease` specifies whether the patient qualified for a diagnosis of heart vessel disease ('yes') or not ('no').  The column `Hemoglobin`  gives the blood level of the protein that carries oxygen around the body."
   ]
  },
  {
   "cell_type": "code",
   "execution_count": null,
   "id": "b41af3a2",
   "metadata": {},
   "outputs": [],
   "source": [
    "ckd = pd.read_csv('ckd.csv')\n",
    "ckd.head()"
   ]
  },
  {
   "cell_type": "markdown",
   "id": "1962f713",
   "metadata": {},
   "source": [
    "## Your job"
   ]
  },
  {
   "cell_type": "markdown",
   "id": "e477793f",
   "metadata": {},
   "source": [
    "Write a function `correlation_ratio`, that returns this value for any data frame, for a given numerical column (given by the column name) and label column (given by a column name):"
   ]
  },
  {
   "cell_type": "code",
   "execution_count": null,
   "id": "d00b03ef",
   "metadata": {},
   "outputs": [],
   "source": [
    "    # Your code here\n",
    "    ...\n",
    "    return ..."
   ]
  },
  {
   "cell_type": "code",
   "execution_count": null,
   "id": "abf19c35",
   "metadata": {},
   "outputs": [],
   "source": [
    "# Test your function by replicating the analysis above.\n",
    "# When your function is correct, you should be able to run this cell without error\n",
    "assert np.isclose(correlation_ratio('Alcohol', 'Class', wine), eta)"
   ]
  },
  {
   "cell_type": "code",
   "execution_count": null,
   "id": "2e4b4b1a",
   "metadata": {},
   "outputs": [],
   "source": [
    "# Test it on another column.\n",
    "assert np.isclose(correlation_ratio('Malic Acid', 'Class', wine), 0.544857081967286)"
   ]
  },
  {
   "cell_type": "code",
   "execution_count": null,
   "id": "436e05a8",
   "metadata": {},
   "outputs": [],
   "source": [
    "# Test it on another dataset.\n",
    "assert np.isclose(correlation_ratio('Hemoglobin', 'Coronary Artery Disease', ckd), 0.3787772107398905)"
   ]
  },
  {
   "cell_type": "markdown",
   "id": "0f3aafa6",
   "metadata": {},
   "source": [
    "## Done.\n",
    "\n",
    "Congratulations, you're done with the assignment!  Be sure to:\n",
    "\n",
    "- **run all the tests** (the next cell has a shortcut for that).\n",
    "- **Save and Checkpoint** from the `File` menu."
   ]
  },
  {
   "cell_type": "code",
   "execution_count": null,
   "id": "f80d2222",
   "metadata": {},
   "outputs": [],
   "source": [
    "# For your convenience, you can run this cell to run all the tests at once!\n",
    "import os\n",
    "_ = [ok.grade(q[:-3]) for q in os.listdir(\"tests\") if q.startswith('q')]"
   ]
  }
 ],
 "metadata": {
  "jupytext": {
   "notebook_metadata_filter": "all,-language_info",
   "split_at_heading": true,
   "text_representation": {
    "extension": ".Rmd",
    "format_name": "rmarkdown",
    "format_version": "1.2",
    "jupytext_version": "1.14.1"
   }
  },
  "kernelspec": {
   "display_name": "Python 3 (ipykernel)",
   "language": "python",
   "name": "python3"
  }
 },
 "nbformat": 4,
 "nbformat_minor": 5
}
